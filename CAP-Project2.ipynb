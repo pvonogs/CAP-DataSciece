{
 "cells": [
  {
   "cell_type": "markdown",
   "metadata": {},
   "source": [
    "# Capstone Project #\n",
    "## Applied Science Project ##\n",
    "\n",
    "_The Project Contains:_<BR>\n",
    "\n",
    "1. Report consisting of all of the following components :<BR>\n",
    "Introduction of the business problem and who is interested in this project.<BR>\n",
    "Data where you describe the data that will be used to solve the problem and the source of the data.<BR>\n",
    "Different Datas Sources for identifying various issues<BR>\n",
    "Methodology section which represents the main component of the report.<BR>\n",
    "Results section show the results.<BR>\n",
    "Discussion section where the observations are noted and any recommendations are done based on the results.<BR>\n",
    "Conclusion section where to conclude the report.<BR>\n",
    "\n",
    "2. A link to Jupyter Notebook on the Github repository pushed.<BR>\n",
    "\n",
    "3. Presentation<BR>\n"
   ]
  },
  {
   "cell_type": "code",
   "execution_count": 4,
   "metadata": {},
   "outputs": [],
   "source": [
    "import pandas as pd\n",
    "import numpy as np"
   ]
  },
  {
   "cell_type": "code",
   "execution_count": 5,
   "metadata": {},
   "outputs": [
    {
     "name": "stdout",
     "output_type": "stream",
     "text": [
      "Pandas version:       0.25.1\n",
      "Numpy Version:        1.18.1\n"
     ]
    }
   ],
   "source": [
    "print('Pandas version:       ' + pd.__version__)\n",
    "print('Numpy Version:        ' + np.__version__)\n"
   ]
  },
  {
   "cell_type": "code",
   "execution_count": null,
   "metadata": {},
   "outputs": [],
   "source": []
  }
 ],
 "metadata": {
  "kernelspec": {
   "display_name": "Python 3",
   "language": "python",
   "name": "python3"
  },
  "language_info": {
   "codemirror_mode": {
    "name": "ipython",
    "version": 3
   },
   "file_extension": ".py",
   "mimetype": "text/x-python",
   "name": "python",
   "nbconvert_exporter": "python",
   "pygments_lexer": "ipython3",
   "version": "3.7.6"
  }
 },
 "nbformat": 4,
 "nbformat_minor": 4
}
